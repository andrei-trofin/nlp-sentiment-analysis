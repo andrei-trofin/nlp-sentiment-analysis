{
 "cells": [
  {
   "cell_type": "code",
   "execution_count": 1,
   "id": "d363ba4c",
   "metadata": {},
   "outputs": [
    {
     "name": "stderr",
     "output_type": "stream",
     "text": [
      "C:\\Python\\lib\\site-packages\\requests\\__init__.py:102: RequestsDependencyWarning: urllib3 (1.26.9) or chardet (5.0.0)/charset_normalizer (2.0.12) doesn't match a supported version!\n",
      "  warnings.warn(\"urllib3 ({}) or chardet ({})/charset_normalizer ({}) doesn't match a supported \"\n"
     ]
    }
   ],
   "source": [
    "# Import data processing libraries\n",
    "import pandas as pd\n",
    "import numpy as np\n",
    "\n",
    "#Import text processing libraries\n",
    "import re\n",
    "import urllib\n",
    "\n",
    "# Import NLP libraries\n",
    "import spacy\n",
    "from spacy.lang.en.stop_words import STOP_WORDS\n",
    "import contractions\n",
    "\n",
    "# Import functions from local scripts\n",
    "import sys\n",
    "sys.path.insert(1, './scripts/development')\n",
    "import scripts.development.preprocessing as pre"
   ]
  },
  {
   "cell_type": "code",
   "execution_count": null,
   "id": "8c36a78b",
   "metadata": {},
   "outputs": [],
   "source": [
    "# Determine file encoding of dataset\n",
    "# Only need to be run once\n",
    "\n",
    "#get_file_encoding(\"../data/twitter16m.csv\")\n",
    "\n",
    "# Detector gave me utf-8 encoding, which gives an error, so I will use the value from the tutorial"
   ]
  },
  {
   "cell_type": "code",
   "execution_count": null,
   "id": "d39f5d40",
   "metadata": {},
   "outputs": [],
   "source": [
    "# Read the dataset from the csv file and check it\n",
    "# Using names= to give meaningful names to columns\n",
    "twitter_df = pd.read_csv(\"../data/twitter16m.csv\", encoding=\"latin1\", header=None, names=[\"sentiment\", \"id\", \"date\", \"query_type\", \"author\", \"message\"])"
   ]
  },
  {
   "cell_type": "code",
   "execution_count": null,
   "id": "f972f67a",
   "metadata": {},
   "outputs": [],
   "source": [
    "twitter_df.head()"
   ]
  },
  {
   "cell_type": "code",
   "execution_count": null,
   "id": "172261be",
   "metadata": {},
   "outputs": [],
   "source": [
    "# Keep only the data we are interested in\n",
    "twitter_df = twitter_df[[\"sentiment\", \"message\"]]\n",
    "twitter_df.head()"
   ]
  },
  {
   "cell_type": "code",
   "execution_count": null,
   "id": "e9140fbf",
   "metadata": {},
   "outputs": [],
   "source": [
    "# Check what kind of sentiments we have\n",
    "twitter_df['sentiment'].value_counts()"
   ]
  },
  {
   "cell_type": "markdown",
   "id": "3c9ec7e0",
   "metadata": {},
   "source": [
    "### Word counts"
   ]
  },
  {
   "cell_type": "code",
   "execution_count": null,
   "id": "3706ea08",
   "metadata": {},
   "outputs": [],
   "source": [
    "# Get the word count for every message\n",
    "twitter_df.loc[:, \"word_count\"] = twitter_df[\"message\"].apply(lambda x: len(x.split()))"
   ]
  },
  {
   "cell_type": "code",
   "execution_count": null,
   "id": "1941427b",
   "metadata": {},
   "outputs": [],
   "source": [
    "twitter_df.head()"
   ]
  },
  {
   "cell_type": "markdown",
   "id": "9f2aed44",
   "metadata": {},
   "source": [
    "### Character count"
   ]
  },
  {
   "cell_type": "code",
   "execution_count": null,
   "id": "b4578759",
   "metadata": {},
   "outputs": [],
   "source": [
    "# Get the character count for every message\n",
    "twitter_df.loc[:, \"character_count\"] = twitter_df[\"message\"].apply(lambda x: len(x))"
   ]
  },
  {
   "cell_type": "code",
   "execution_count": null,
   "id": "9e180d2e",
   "metadata": {},
   "outputs": [],
   "source": [
    "twitter_df.head()"
   ]
  },
  {
   "cell_type": "markdown",
   "id": "7d6b58b1",
   "metadata": {},
   "source": [
    "### Average word length"
   ]
  },
  {
   "cell_type": "code",
   "execution_count": null,
   "id": "68d3ba8b",
   "metadata": {},
   "outputs": [],
   "source": [
    "# Get the average word length for every message\n",
    "twitter_df.loc[:, \"avg_word_len\"] = twitter_df[\"message\"].apply(lambda x: pre.get_avg_word_len(x))"
   ]
  },
  {
   "cell_type": "code",
   "execution_count": null,
   "id": "b1701bfc",
   "metadata": {},
   "outputs": [],
   "source": [
    "twitter_df.head()"
   ]
  },
  {
   "cell_type": "markdown",
   "id": "903ec0d0",
   "metadata": {},
   "source": [
    "### Stop words count"
   ]
  },
  {
   "cell_type": "code",
   "execution_count": null,
   "id": "15d0fc00",
   "metadata": {},
   "outputs": [],
   "source": [
    "# Get the number of stop words in each message\n",
    "twitter_df.loc[:, \"stop_words_count\"] = twitter_df[\"message\"].apply(lambda x: len([word for word in x.lower().split() if word in STOP_WORDS]))"
   ]
  },
  {
   "cell_type": "code",
   "execution_count": null,
   "id": "f91ecccc",
   "metadata": {},
   "outputs": [],
   "source": [
    "twitter_df.head()"
   ]
  },
  {
   "cell_type": "markdown",
   "id": "2b902f31",
   "metadata": {},
   "source": [
    "### #HashTags count"
   ]
  },
  {
   "cell_type": "code",
   "execution_count": null,
   "id": "bd1332a1",
   "metadata": {},
   "outputs": [],
   "source": [
    "# Get the number of hashtags in each message\n",
    "twitter_df.loc[:, \"hashtags_count\"] = twitter_df[\"message\"].apply(lambda x: pre.get_hashtags_count(x))"
   ]
  },
  {
   "cell_type": "code",
   "execution_count": null,
   "id": "3406b216",
   "metadata": {},
   "outputs": [],
   "source": [
    "twitter_df.head()"
   ]
  },
  {
   "cell_type": "markdown",
   "id": "546bc744",
   "metadata": {},
   "source": [
    "### Numeric counts"
   ]
  },
  {
   "cell_type": "code",
   "execution_count": null,
   "id": "4649ebfc",
   "metadata": {},
   "outputs": [],
   "source": [
    "# Get the number of numerical text in each message\n",
    "twitter_df.loc[:, \"numeric_count\"] = twitter_df[\"message\"].apply(\n",
    "    lambda x: len([word for word in x.split() if word.isnumeric()]))"
   ]
  },
  {
   "cell_type": "code",
   "execution_count": null,
   "id": "41fe9453",
   "metadata": {},
   "outputs": [],
   "source": [
    "twitter_df.head()"
   ]
  },
  {
   "cell_type": "markdown",
   "id": "07d83ee0",
   "metadata": {},
   "source": [
    "### UPPER case words count"
   ]
  },
  {
   "cell_type": "code",
   "execution_count": null,
   "id": "f5663afd",
   "metadata": {},
   "outputs": [],
   "source": [
    "# Get the number of upper case words in each message\n",
    "twitter_df.loc[:, \"upper_case_count\"] = twitter_df[\"message\"].apply(lambda x: pre.get_upper_case_count(x))"
   ]
  },
  {
   "cell_type": "code",
   "execution_count": null,
   "id": "7762cee1",
   "metadata": {},
   "outputs": [],
   "source": [
    "twitter_df.head()"
   ]
  },
  {
   "cell_type": "markdown",
   "id": "64779db3",
   "metadata": {},
   "source": [
    "### Randoms check to see if preprocessing is ok so far"
   ]
  },
  {
   "cell_type": "code",
   "execution_count": null,
   "id": "d7c3ca3e",
   "metadata": {},
   "outputs": [],
   "source": [
    "print(twitter_df.loc[632][\"message\"], \"\\n\\n\", twitter_df.loc[632])"
   ]
  },
  {
   "cell_type": "markdown",
   "id": "0d561561",
   "metadata": {},
   "source": [
    "## Data cleaning and preprocessing"
   ]
  },
  {
   "cell_type": "markdown",
   "id": "a5643f5b",
   "metadata": {},
   "source": [
    "### Lowercase conversion"
   ]
  },
  {
   "cell_type": "code",
   "execution_count": null,
   "id": "20248cb1",
   "metadata": {},
   "outputs": [],
   "source": [
    "# Convert the whole message to lowercase\n",
    "twitter_df.loc[:, \"message\"] = twitter_df[\"message\"].apply(lambda x: x.lower())"
   ]
  },
  {
   "cell_type": "code",
   "execution_count": null,
   "id": "2fa063f9",
   "metadata": {},
   "outputs": [],
   "source": [
    "twitter_df.head()"
   ]
  },
  {
   "cell_type": "markdown",
   "id": "962bd61c",
   "metadata": {},
   "source": [
    "### Contraction to expansion"
   ]
  },
  {
   "cell_type": "code",
   "execution_count": null,
   "id": "114d4bb8",
   "metadata": {
    "scrolled": true
   },
   "outputs": [],
   "source": [
    "%%time\n",
    "twitter_df.loc[:, \"message\"] = twitter_df[\"message\"].apply(lambda x: pre.expand_contractions(x))"
   ]
  },
  {
   "cell_type": "code",
   "execution_count": null,
   "id": "6b698d44",
   "metadata": {},
   "outputs": [],
   "source": [
    "twitter_df.head()"
   ]
  },
  {
   "cell_type": "markdown",
   "id": "a4e89ee4",
   "metadata": {},
   "source": [
    "### Count and remove emails"
   ]
  },
  {
   "cell_type": "code",
   "execution_count": null,
   "id": "c03c04f3",
   "metadata": {},
   "outputs": [],
   "source": [
    "# Get the number of emails for each message\n",
    "twitter_df.loc[:, \"email_count\"] = twitter_df[\"message\"].apply(lambda x: pre.get_email_count(x))"
   ]
  },
  {
   "cell_type": "code",
   "execution_count": null,
   "id": "b0d17dbe",
   "metadata": {},
   "outputs": [],
   "source": [
    "# Remove the emails from the message\n",
    "twitter_df.loc[:, \"message\"] = twitter_df[\"message\"].apply(lambda x: pre.remove_emails(x))"
   ]
  },
  {
   "cell_type": "code",
   "execution_count": null,
   "id": "7d270cb9",
   "metadata": {},
   "outputs": [],
   "source": [
    "twitter_df.head()"
   ]
  },
  {
   "cell_type": "markdown",
   "id": "2a4f8be1",
   "metadata": {},
   "source": [
    "### Count and remove URLs"
   ]
  },
  {
   "cell_type": "code",
   "execution_count": null,
   "id": "315cc656",
   "metadata": {},
   "outputs": [],
   "source": [
    "# Count the number of urls in the message\n",
    "twitter_df[\"url_count\"] = twitter_df[\"message\"].apply(lambda x: pre.get_url_count(x))"
   ]
  },
  {
   "cell_type": "code",
   "execution_count": null,
   "id": "2513566a",
   "metadata": {},
   "outputs": [],
   "source": [
    "# Remove urls from the message\n",
    "twitter_df.loc[:, \"message\"] = twitter_df[\"message\"].apply(lambda x: pre.remove_urls(x))"
   ]
  },
  {
   "cell_type": "code",
   "execution_count": null,
   "id": "e3b07360",
   "metadata": {},
   "outputs": [],
   "source": [
    "twitter_df.head()"
   ]
  },
  {
   "cell_type": "markdown",
   "id": "2cdd9050",
   "metadata": {},
   "source": [
    "### Remove RT = Retweet, count and remove reply targets and mentions"
   ]
  },
  {
   "cell_type": "code",
   "execution_count": null,
   "id": "38c8b0ec",
   "metadata": {},
   "outputs": [],
   "source": [
    "# Remove RT from the messages\n",
    "twitter_df.loc[:, \"message\"] = twitter_df[\"message\"].apply(lambda x: pre.remove_retweet(x))"
   ]
  },
  {
   "cell_type": "code",
   "execution_count": null,
   "id": "0fc01e74",
   "metadata": {},
   "outputs": [],
   "source": [
    "# Count mentions in the message\n",
    "twitter_df[\"mention_count\"] = twitter_df[\"message\"].apply(lambda x: pre.get_mention_count(x))"
   ]
  },
  {
   "cell_type": "code",
   "execution_count": null,
   "id": "fc09eee1",
   "metadata": {},
   "outputs": [],
   "source": [
    "# Remove all mentions from the message\n",
    "twitter_df.loc[:, \"message\"] = twitter_df[\"message\"].apply(lambda x: pre.remove_mentions(x))"
   ]
  },
  {
   "cell_type": "code",
   "execution_count": null,
   "id": "76cc2b81",
   "metadata": {},
   "outputs": [],
   "source": [
    "# See if tweet is reply or not\n",
    "twitter_df[\"is_reply\"] = twitter_df[\"message\"].apply(lambda x: pre.is_reply(x))"
   ]
  },
  {
   "cell_type": "code",
   "execution_count": null,
   "id": "d54c6f42",
   "metadata": {},
   "outputs": [],
   "source": [
    "# Remove reply target from message\n",
    "twitter_df.loc[:, \"message\"] = twitter_df[\"message\"].apply(lambda x: pre.remove_reply_target(x))"
   ]
  },
  {
   "cell_type": "markdown",
   "id": "d52b16b8",
   "metadata": {},
   "source": [
    "### Remove accents"
   ]
  },
  {
   "cell_type": "code",
   "execution_count": null,
   "id": "f729ec87",
   "metadata": {},
   "outputs": [],
   "source": [
    "# Replace accented characters with their normal form\n",
    "twitter_df.loc[:, \"message\"] = twitter_df[\"message\"].apply(lambda x: pre.remove_accents(x))"
   ]
  },
  {
   "cell_type": "markdown",
   "id": "dd5210a0",
   "metadata": {},
   "source": [
    "### Remove special characters from text and extra spaces"
   ]
  },
  {
   "cell_type": "code",
   "execution_count": null,
   "id": "8387f594",
   "metadata": {},
   "outputs": [],
   "source": [
    "# Remove all characters that are not alphanumeric, hyphen or space from message\n",
    "twitter_df.loc[:, \"message\"] = twitter_df[\"message\"].apply(lambda x: pre.remove_special_characters(x))"
   ]
  },
  {
   "cell_type": "code",
   "execution_count": null,
   "id": "2adef321",
   "metadata": {},
   "outputs": [],
   "source": [
    "# Remove extra spaces from the message\n",
    "twitter_df.loc[:, \"message\"] = twitter_df[\"message\"].apply(lambda x: pre.remove_extra_spaces(x))"
   ]
  }
 ],
 "metadata": {
  "kernelspec": {
   "display_name": "Python 3 (ipykernel)",
   "language": "python",
   "name": "python3"
  },
  "language_info": {
   "codemirror_mode": {
    "name": "ipython",
    "version": 3
   },
   "file_extension": ".py",
   "mimetype": "text/x-python",
   "name": "python",
   "nbconvert_exporter": "python",
   "pygments_lexer": "ipython3",
   "version": "3.9.6"
  }
 },
 "nbformat": 4,
 "nbformat_minor": 5
}
